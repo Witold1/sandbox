{
 "cells": [
  {
   "cell_type": "code",
   "execution_count": 1,
   "metadata": {},
   "outputs": [],
   "source": [
    "import warnings\n",
    "warnings.filterwarnings('ignore')"
   ]
  },
  {
   "cell_type": "markdown",
   "metadata": {},
   "source": [
    "## Tasks <a id='labeling'></a>\n",
    "\n",
    "* Изучить используемые названия переменных. Из каких частей баланса они берутся? Как они взимосвязаны?\n",
    "* [Получить данные за 2012 год (example_start.py)](#1)\n",
    "* [Выбрать крупную компанию, найти на ее сайте отчетность по РСБУ за 2012 год, сравнить данные с сайта и из базы отчтености Росстата.](#compare)\n",
    "* [Проверить правильность составления отчетности через равенства и неравенства (например ta = tp, debt_long < tp_long).](#2)\n",
    "* [Вывести список крупнейших российских компаний по объему активов и по объему продаж. Что не так с этим списком? Как его модифцировать? (задание - сначала сделать самостоятельно, затем посмотерть play.py).](#3)\n",
    "\n",
    "\n",
    "*[_Пример_](https://sebastianraschka.com/Articles/2014_ipython_internal_links.html) _создания содеражания_"
   ]
  },
  {
   "cell_type": "markdown",
   "metadata": {},
   "source": [
    "> ### Получить данные за 2012 год (example_start.py).<a id='1'></a>\n",
    "\n",
    "К [содержанию](#labeling)"
   ]
  },
  {
   "cell_type": "markdown",
   "metadata": {},
   "source": [
    "Используем для этого пакет ```boo``` и код из примера к нему."
   ]
  },
  {
   "cell_type": "code",
   "execution_count": 2,
   "metadata": {},
   "outputs": [
    {
     "name": "stdout",
     "output_type": "stream",
     "text": [
      "Please be prepared download and build operations can take several minutes!\n",
      "Year: 2012\n",
      "Raw file already downloaded\n",
      "Year: 2012\n",
      "Work file already created\n",
      "Year: 2012\n",
      "Reading processed CSV file C:\\Users\\Vitaly\\sandbox\\data\\processed-2012.csv\n",
      "2012 dataset: 765813 rows and 55 columns\n"
     ]
    }
   ],
   "source": [
    "\"\"\"Download and truncate Rosstat corporate dataset.\"\"\"\n",
    "\n",
    "from boo import download, build, read_dataframe\n",
    "\n",
    "print(\"Please be prepared download and build operations \"\n",
    "      \"can take several minutes!\")\n",
    "\n",
    "year = 2012\n",
    "\n",
    "# download raw file from Rosstat\n",
    "try:\n",
    "    download(year)\n",
    "except FileExistsError:\n",
    "    print(\"Raw file already downloaded\")\n",
    "\n",
    "# create truncated version with fewer columns and good column names\n",
    "try:\n",
    "    build(year)\n",
    "except FileExistsError:\n",
    "    print(\"Work file already created\")\n",
    "\n",
    "# read trimmed version of data as dataframe\n",
    "df = read_dataframe(year)\n",
    "\n",
    "print(year, \"dataset:\", df.shape[0], \"rows and\", df.shape[1], \"columns\")\n"
   ]
  },
  {
   "cell_type": "markdown",
   "metadata": {},
   "source": [
    "Загрузим данные с локальной машины."
   ]
  },
  {
   "cell_type": "code",
   "execution_count": 3,
   "metadata": {},
   "outputs": [],
   "source": [
    "import pandas as pd"
   ]
  },
  {
   "cell_type": "code",
   "execution_count": 4,
   "metadata": {},
   "outputs": [],
   "source": [
    "data = pd.read_csv('data/processed-2012.csv')"
   ]
  },
  {
   "cell_type": "markdown",
   "metadata": {},
   "source": [
    "У нас данные за $2012$ год по $765 813$ предприятиям разного размера, описаны 55 признаками обозначающими показатели отчетности предприятия по РСБУ"
   ]
  },
  {
   "cell_type": "code",
   "execution_count": 5,
   "metadata": {},
   "outputs": [
    {
     "data": {
      "text/plain": [
       "(765813, 55)"
      ]
     },
     "execution_count": 5,
     "metadata": {},
     "output_type": "execute_result"
    }
   ],
   "source": [
    "data.shape"
   ]
  },
  {
   "cell_type": "markdown",
   "metadata": {},
   "source": [
    "Пример данных:"
   ]
  },
  {
   "cell_type": "code",
   "execution_count": 6,
   "metadata": {},
   "outputs": [
    {
     "data": {
      "text/html": [
       "<div>\n",
       "<style scoped>\n",
       "    .dataframe tbody tr th:only-of-type {\n",
       "        vertical-align: middle;\n",
       "    }\n",
       "\n",
       "    .dataframe tbody tr th {\n",
       "        vertical-align: top;\n",
       "    }\n",
       "\n",
       "    .dataframe thead th {\n",
       "        text-align: right;\n",
       "    }\n",
       "</style>\n",
       "<table border=\"1\" class=\"dataframe\">\n",
       "  <thead>\n",
       "    <tr style=\"text-align: right;\">\n",
       "      <th></th>\n",
       "      <th>ok1</th>\n",
       "      <th>ok2</th>\n",
       "      <th>ok3</th>\n",
       "      <th>org</th>\n",
       "      <th>title</th>\n",
       "      <th>region</th>\n",
       "      <th>inn</th>\n",
       "      <th>okpo</th>\n",
       "      <th>okopf</th>\n",
       "      <th>okfs</th>\n",
       "      <th>...</th>\n",
       "      <th>paid_to_supplier</th>\n",
       "      <th>paid_to_worker</th>\n",
       "      <th>paid_interest</th>\n",
       "      <th>paid_profit_tax</th>\n",
       "      <th>paid_other_costs</th>\n",
       "      <th>cf_oper</th>\n",
       "      <th>paid_fa_investment</th>\n",
       "      <th>cf_inv</th>\n",
       "      <th>cf_fin</th>\n",
       "      <th>cf</th>\n",
       "    </tr>\n",
       "  </thead>\n",
       "  <tbody>\n",
       "    <tr>\n",
       "      <th>0</th>\n",
       "      <td>65</td>\n",
       "      <td>23</td>\n",
       "      <td>1</td>\n",
       "      <td>ОТКРЫТОЕ АКЦИОНЕРНОЕ ОБЩЕСТВО</td>\n",
       "      <td>РОССИЙСКОЕ АКЦИОНЕРНОЕ ОБЩЕСТВО ПО ПРОИЗВОДСТВ...</td>\n",
       "      <td>24</td>\n",
       "      <td>2457009983</td>\n",
       "      <td>2565</td>\n",
       "      <td>47</td>\n",
       "      <td>16</td>\n",
       "      <td>...</td>\n",
       "      <td>15215</td>\n",
       "      <td>32857</td>\n",
       "      <td>0</td>\n",
       "      <td>27105</td>\n",
       "      <td>2914527</td>\n",
       "      <td>-36814</td>\n",
       "      <td>0</td>\n",
       "      <td>29792</td>\n",
       "      <td>0</td>\n",
       "      <td>-7022</td>\n",
       "    </tr>\n",
       "    <tr>\n",
       "      <th>1</th>\n",
       "      <td>70</td>\n",
       "      <td>20</td>\n",
       "      <td>2</td>\n",
       "      <td>ОТКРЫТОЕ АКЦИОНЕРНОЕ ОБЩЕСТВО</td>\n",
       "      <td>ВЛАДТЕКС</td>\n",
       "      <td>33</td>\n",
       "      <td>3328100636</td>\n",
       "      <td>31029</td>\n",
       "      <td>47</td>\n",
       "      <td>16</td>\n",
       "      <td>...</td>\n",
       "      <td>0</td>\n",
       "      <td>0</td>\n",
       "      <td>0</td>\n",
       "      <td>0</td>\n",
       "      <td>0</td>\n",
       "      <td>0</td>\n",
       "      <td>0</td>\n",
       "      <td>0</td>\n",
       "      <td>0</td>\n",
       "      <td>0</td>\n",
       "    </tr>\n",
       "    <tr>\n",
       "      <th>2</th>\n",
       "      <td>70</td>\n",
       "      <td>20</td>\n",
       "      <td>2</td>\n",
       "      <td>Открытое акционерное общество</td>\n",
       "      <td>Корпоративные сервисные системы</td>\n",
       "      <td>31</td>\n",
       "      <td>3125008321</td>\n",
       "      <td>104082</td>\n",
       "      <td>47</td>\n",
       "      <td>16</td>\n",
       "      <td>...</td>\n",
       "      <td>7543</td>\n",
       "      <td>52345</td>\n",
       "      <td>0</td>\n",
       "      <td>0</td>\n",
       "      <td>72151</td>\n",
       "      <td>111662</td>\n",
       "      <td>187551</td>\n",
       "      <td>-90947</td>\n",
       "      <td>-18483</td>\n",
       "      <td>2232</td>\n",
       "    </tr>\n",
       "  </tbody>\n",
       "</table>\n",
       "<p>3 rows × 55 columns</p>\n",
       "</div>"
      ],
      "text/plain": [
       "   ok1  ok2  ok3                            org  \\\n",
       "0   65   23    1  ОТКРЫТОЕ АКЦИОНЕРНОЕ ОБЩЕСТВО   \n",
       "1   70   20    2  ОТКРЫТОЕ АКЦИОНЕРНОЕ ОБЩЕСТВО   \n",
       "2   70   20    2  Открытое акционерное общество   \n",
       "\n",
       "                                               title  region         inn  \\\n",
       "0  РОССИЙСКОЕ АКЦИОНЕРНОЕ ОБЩЕСТВО ПО ПРОИЗВОДСТВ...      24  2457009983   \n",
       "1                                           ВЛАДТЕКС      33  3328100636   \n",
       "2                    Корпоративные сервисные системы      31  3125008321   \n",
       "\n",
       "     okpo  okopf  okfs  ...   paid_to_supplier  paid_to_worker  paid_interest  \\\n",
       "0    2565     47    16  ...              15215           32857              0   \n",
       "1   31029     47    16  ...                  0               0              0   \n",
       "2  104082     47    16  ...               7543           52345              0   \n",
       "\n",
       "   paid_profit_tax  paid_other_costs  cf_oper  paid_fa_investment  cf_inv  \\\n",
       "0            27105           2914527   -36814                   0   29792   \n",
       "1                0                 0        0                   0       0   \n",
       "2                0             72151   111662              187551  -90947   \n",
       "\n",
       "   cf_fin    cf  \n",
       "0       0 -7022  \n",
       "1       0     0  \n",
       "2  -18483  2232  \n",
       "\n",
       "[3 rows x 55 columns]"
      ]
     },
     "execution_count": 6,
     "metadata": {},
     "output_type": "execute_result"
    }
   ],
   "source": [
    "data.head(3)"
   ]
  },
  {
   "cell_type": "markdown",
   "metadata": {},
   "source": [
    "Также, на этом этапе можно вызвать ```pandas-profiling``` для более полного объяснительного анализа."
   ]
  },
  {
   "cell_type": "markdown",
   "metadata": {},
   "source": [
    "> ### Выбрать крупную компанию, найти на ее сайте отчетность по РСБУ за 2012 год, сравнить данные с сайта и из базы отчтености Росстата. <a id='compare'></a>\n",
    "\n",
    "К [содержанию](#labeling)"
   ]
  },
  {
   "cell_type": "markdown",
   "metadata": {},
   "source": [
    "Сравним отчетность Норильского Никеля [отсюда](https://www.e-disclosure.ru/portal/files.aspx?id=564&type=3) (Интерфакс, Центр Раскрытия Корпоративной информации, сканы документов) и его отчетность из данных Росстата. \n",
    "\n",
    "ИНН $8401005730$"
   ]
  },
  {
   "cell_type": "code",
   "execution_count": 7,
   "metadata": {
    "scrolled": true
   },
   "outputs": [
    {
     "data": {
      "text/html": [
       "<div>\n",
       "<style scoped>\n",
       "    .dataframe tbody tr th:only-of-type {\n",
       "        vertical-align: middle;\n",
       "    }\n",
       "\n",
       "    .dataframe tbody tr th {\n",
       "        vertical-align: top;\n",
       "    }\n",
       "\n",
       "    .dataframe thead th {\n",
       "        text-align: right;\n",
       "    }\n",
       "</style>\n",
       "<table border=\"1\" class=\"dataframe\">\n",
       "  <thead>\n",
       "    <tr style=\"text-align: right;\">\n",
       "      <th></th>\n",
       "      <th>inn</th>\n",
       "      <th>title</th>\n",
       "    </tr>\n",
       "  </thead>\n",
       "  <tbody>\n",
       "    <tr>\n",
       "      <th>0</th>\n",
       "      <td>2457009983</td>\n",
       "      <td>РОССИЙСКОЕ АКЦИОНЕРНОЕ ОБЩЕСТВО ПО ПРОИЗВОДСТВ...</td>\n",
       "    </tr>\n",
       "    <tr>\n",
       "      <th>42959</th>\n",
       "      <td>2457195151</td>\n",
       "      <td>ГМК \"НОРИЛЬСКИЙ НИКЕЛЬ\" И ЕГО ДОЧЕРНИХ И ЗАВИС...</td>\n",
       "    </tr>\n",
       "    <tr>\n",
       "      <th>49168</th>\n",
       "      <td>8401005730</td>\n",
       "      <td>ГОРНО-МЕТАЛЛУРГИЧЕСКАЯ КОМПАНИЯ \"НОРИЛЬСКИЙ НИ...</td>\n",
       "    </tr>\n",
       "  </tbody>\n",
       "</table>\n",
       "</div>"
      ],
      "text/plain": [
       "              inn                                              title\n",
       "0      2457009983  РОССИЙСКОЕ АКЦИОНЕРНОЕ ОБЩЕСТВО ПО ПРОИЗВОДСТВ...\n",
       "42959  2457195151  ГМК \"НОРИЛЬСКИЙ НИКЕЛЬ\" И ЕГО ДОЧЕРНИХ И ЗАВИС...\n",
       "49168  8401005730  ГОРНО-МЕТАЛЛУРГИЧЕСКАЯ КОМПАНИЯ \"НОРИЛЬСКИЙ НИ..."
      ]
     },
     "execution_count": 7,
     "metadata": {},
     "output_type": "execute_result"
    }
   ],
   "source": [
    "data[data.title.str.lower().str.contains(r'.*(норильский никель).*', regex=True, na=False)][['inn', 'title']].head(3)"
   ]
  },
  {
   "cell_type": "markdown",
   "metadata": {},
   "source": [
    "Баланс активов в двух источниках отчетности равен."
   ]
  },
  {
   "cell_type": "code",
   "execution_count": 8,
   "metadata": {},
   "outputs": [
    {
     "data": {
      "text/plain": [
       "49168    703027117\n",
       "Name: ta, dtype: int64"
      ]
     },
     "execution_count": 8,
     "metadata": {},
     "output_type": "execute_result"
    }
   ],
   "source": [
    "data[data.inn==8401005730].ta"
   ]
  },
  {
   "cell_type": "markdown",
   "metadata": {},
   "source": [
    "Баланс пассивов в двух источниках отчетности равен."
   ]
  },
  {
   "cell_type": "code",
   "execution_count": 9,
   "metadata": {},
   "outputs": [
    {
     "data": {
      "text/plain": [
       "49168    703027117\n",
       "Name: tp, dtype: int64"
      ]
     },
     "execution_count": 9,
     "metadata": {},
     "output_type": "execute_result"
    }
   ],
   "source": [
    "data[data.inn==8401005730].tp"
   ]
  },
  {
   "cell_type": "markdown",
   "metadata": {},
   "source": [
    "> ### Проверить правильность составления отчетности через равенства и неравенства (например ta = tp, debt_long < tp_long). <a id='2'></a>\n",
    "\n",
    "К [содержанию](#labeling)"
   ]
  },
  {
   "cell_type": "markdown",
   "metadata": {},
   "source": [
    "**Проверим первое неравенство**: равенство БАЛАНС (актив) и БАЛАНС (пассив)."
   ]
  },
  {
   "cell_type": "code",
   "execution_count": 10,
   "metadata": {},
   "outputs": [
    {
     "name": "stdout",
     "output_type": "stream",
     "text": [
      "There is 3350 ta not equal tp \n"
     ]
    }
   ],
   "source": [
    "if all(data.ta == data.tp):\n",
    "       print('All ta equal tp')\n",
    "else:\n",
    "       print(f'There is {data.shape[0] - sum(data.ta == data.tp)} ta not equal tp ')"
   ]
  },
  {
   "cell_type": "code",
   "execution_count": 11,
   "metadata": {},
   "outputs": [
    {
     "data": {
      "text/html": [
       "<div>\n",
       "<style scoped>\n",
       "    .dataframe tbody tr th:only-of-type {\n",
       "        vertical-align: middle;\n",
       "    }\n",
       "\n",
       "    .dataframe tbody tr th {\n",
       "        vertical-align: top;\n",
       "    }\n",
       "\n",
       "    .dataframe thead th {\n",
       "        text-align: right;\n",
       "    }\n",
       "</style>\n",
       "<table border=\"1\" class=\"dataframe\">\n",
       "  <thead>\n",
       "    <tr style=\"text-align: right;\">\n",
       "      <th></th>\n",
       "      <th>org</th>\n",
       "      <th>title</th>\n",
       "      <th>inn</th>\n",
       "    </tr>\n",
       "  </thead>\n",
       "  <tbody>\n",
       "    <tr>\n",
       "      <th>242</th>\n",
       "      <td>ОТКРЫТОЕ АКЦИОНЕРНОЕ ОБЩЕСТВО</td>\n",
       "      <td>СЕВЕРНОЕ ЛЕСОПРОМЫШЛЕННОЕ ТОВАРИЩЕСТВО-ЛЕСОЗАВ...</td>\n",
       "      <td>2900000198</td>\n",
       "    </tr>\n",
       "    <tr>\n",
       "      <th>375</th>\n",
       "      <td>Открытое акционерное общество</td>\n",
       "      <td>АМТ</td>\n",
       "      <td>3624000102</td>\n",
       "    </tr>\n",
       "    <tr>\n",
       "      <th>1150</th>\n",
       "      <td>ОБЩЕСТВО С ОГРАНИЧЕННОЙ ОТВЕТСТВЕННОСТЬЮ</td>\n",
       "      <td>СНЕГУРОВСКОЕ</td>\n",
       "      <td>2533007878</td>\n",
       "    </tr>\n",
       "    <tr>\n",
       "      <th>1506</th>\n",
       "      <td>ГЕОРГИЕВСКОЕ МУНИЦИПАЛЬНОЕ УНИТАРНОЕ ПРЕДПРИЯТИЕ</td>\n",
       "      <td>ТЕПЛОСЕТЬ</td>\n",
       "      <td>2625002189</td>\n",
       "    </tr>\n",
       "    <tr>\n",
       "      <th>2101</th>\n",
       "      <td>ЗАКРЫТОЕ АКЦИОНЕРНОЕ ОБЩЕСТВО</td>\n",
       "      <td>НАУЧНО-ПРОИЗВОДСТВЕННАЯ ФИРМА АЛТАН</td>\n",
       "      <td>2202000455</td>\n",
       "    </tr>\n",
       "  </tbody>\n",
       "</table>\n",
       "</div>"
      ],
      "text/plain": [
       "                                                   org  \\\n",
       "242                      ОТКРЫТОЕ АКЦИОНЕРНОЕ ОБЩЕСТВО   \n",
       "375                      Открытое акционерное общество   \n",
       "1150          ОБЩЕСТВО С ОГРАНИЧЕННОЙ ОТВЕТСТВЕННОСТЬЮ   \n",
       "1506  ГЕОРГИЕВСКОЕ МУНИЦИПАЛЬНОЕ УНИТАРНОЕ ПРЕДПРИЯТИЕ   \n",
       "2101                     ЗАКРЫТОЕ АКЦИОНЕРНОЕ ОБЩЕСТВО   \n",
       "\n",
       "                                                  title         inn  \n",
       "242   СЕВЕРНОЕ ЛЕСОПРОМЫШЛЕННОЕ ТОВАРИЩЕСТВО-ЛЕСОЗАВ...  2900000198  \n",
       "375                                                 АМТ  3624000102  \n",
       "1150                                       СНЕГУРОВСКОЕ  2533007878  \n",
       "1506                                          ТЕПЛОСЕТЬ  2625002189  \n",
       "2101                НАУЧНО-ПРОИЗВОДСТВЕННАЯ ФИРМА АЛТАН  2202000455  "
      ]
     },
     "execution_count": 11,
     "metadata": {},
     "output_type": "execute_result"
    }
   ],
   "source": [
    "data[data.ta != data.tp][['org', 'title', 'inn']].head()"
   ]
  },
  {
   "cell_type": "markdown",
   "metadata": {},
   "source": [
    "**Проверим второе неравенство**: Долгосрочные заемные средства $<$ Краткосрочные заемные обязательства"
   ]
  },
  {
   "cell_type": "code",
   "execution_count": 12,
   "metadata": {},
   "outputs": [
    {
     "name": "stdout",
     "output_type": "stream",
     "text": [
      "There is 732043 debt_long bigger or equal to tp_long \n"
     ]
    }
   ],
   "source": [
    "if all(data.debt_long < data.tp_long):\n",
    "       print('All ta equal tp')\n",
    "else:\n",
    "       print(f'There is {data.shape[0] - sum(data.debt_long < data.tp_long)} debt_long bigger or equal to tp_long ')"
   ]
  },
  {
   "cell_type": "code",
   "execution_count": 13,
   "metadata": {},
   "outputs": [
    {
     "data": {
      "text/html": [
       "<div>\n",
       "<style scoped>\n",
       "    .dataframe tbody tr th:only-of-type {\n",
       "        vertical-align: middle;\n",
       "    }\n",
       "\n",
       "    .dataframe tbody tr th {\n",
       "        vertical-align: top;\n",
       "    }\n",
       "\n",
       "    .dataframe thead th {\n",
       "        text-align: right;\n",
       "    }\n",
       "</style>\n",
       "<table border=\"1\" class=\"dataframe\">\n",
       "  <thead>\n",
       "    <tr style=\"text-align: right;\">\n",
       "      <th></th>\n",
       "      <th>org</th>\n",
       "      <th>title</th>\n",
       "      <th>inn</th>\n",
       "    </tr>\n",
       "  </thead>\n",
       "  <tbody>\n",
       "    <tr>\n",
       "      <th>0</th>\n",
       "      <td>ОТКРЫТОЕ АКЦИОНЕРНОЕ ОБЩЕСТВО</td>\n",
       "      <td>РОССИЙСКОЕ АКЦИОНЕРНОЕ ОБЩЕСТВО ПО ПРОИЗВОДСТВ...</td>\n",
       "      <td>2457009983</td>\n",
       "    </tr>\n",
       "    <tr>\n",
       "      <th>1</th>\n",
       "      <td>ОТКРЫТОЕ АКЦИОНЕРНОЕ ОБЩЕСТВО</td>\n",
       "      <td>ВЛАДТЕКС</td>\n",
       "      <td>3328100636</td>\n",
       "    </tr>\n",
       "    <tr>\n",
       "      <th>10</th>\n",
       "      <td>ЗАКРЫТОЕ АКЦИОНЕРНОЕ ОБЩЕСТВО</td>\n",
       "      <td>ВЛАДИМИРСКИЙ ЭЛЕКТРОМЕХАНИЧЕСКИЙ ЗАВОД</td>\n",
       "      <td>3327100337</td>\n",
       "    </tr>\n",
       "    <tr>\n",
       "      <th>19</th>\n",
       "      <td>Общество с ограниченной ответственностью</td>\n",
       "      <td>Адопт Плюс</td>\n",
       "      <td>2617010718</td>\n",
       "    </tr>\n",
       "    <tr>\n",
       "      <th>20</th>\n",
       "      <td>Ликвидационная комиссия закрытого акционерного...</td>\n",
       "      <td>Сормовская ТЭЦ</td>\n",
       "      <td>5263078750</td>\n",
       "    </tr>\n",
       "  </tbody>\n",
       "</table>\n",
       "</div>"
      ],
      "text/plain": [
       "                                                  org  \\\n",
       "0                       ОТКРЫТОЕ АКЦИОНЕРНОЕ ОБЩЕСТВО   \n",
       "1                       ОТКРЫТОЕ АКЦИОНЕРНОЕ ОБЩЕСТВО   \n",
       "10                      ЗАКРЫТОЕ АКЦИОНЕРНОЕ ОБЩЕСТВО   \n",
       "19           Общество с ограниченной ответственностью   \n",
       "20  Ликвидационная комиссия закрытого акционерного...   \n",
       "\n",
       "                                                title         inn  \n",
       "0   РОССИЙСКОЕ АКЦИОНЕРНОЕ ОБЩЕСТВО ПО ПРОИЗВОДСТВ...  2457009983  \n",
       "1                                            ВЛАДТЕКС  3328100636  \n",
       "10             ВЛАДИМИРСКИЙ ЭЛЕКТРОМЕХАНИЧЕСКИЙ ЗАВОД  3327100337  \n",
       "19                                         Адопт Плюс  2617010718  \n",
       "20                                     Сормовская ТЭЦ  5263078750  "
      ]
     },
     "execution_count": 13,
     "metadata": {},
     "output_type": "execute_result"
    }
   ],
   "source": [
    "data[data.debt_long >= data.tp_long][['org', 'title', 'inn']].head()"
   ]
  },
  {
   "cell_type": "markdown",
   "metadata": {},
   "source": [
    "> ### Вывести список крупнейших российских компаний по объему активов и по объему продаж. Что не так с этим списком? <a id='3'></a>\n",
    "\n",
    "К [содержанию](#labeling)"
   ]
  },
  {
   "cell_type": "markdown",
   "metadata": {},
   "source": [
    "Будем выводить топ-10 крупнейших компаний."
   ]
  },
  {
   "cell_type": "code",
   "execution_count": 14,
   "metadata": {},
   "outputs": [],
   "source": [
    "NUMBER_OF_LARGE_COMPANIES = 10"
   ]
  },
  {
   "cell_type": "markdown",
   "metadata": {},
   "source": [
    "#### Топ-10 по продажам"
   ]
  },
  {
   "cell_type": "code",
   "execution_count": 15,
   "metadata": {},
   "outputs": [
    {
     "data": {
      "text/html": [
       "<div>\n",
       "<style scoped>\n",
       "    .dataframe tbody tr th:only-of-type {\n",
       "        vertical-align: middle;\n",
       "    }\n",
       "\n",
       "    .dataframe tbody tr th {\n",
       "        vertical-align: top;\n",
       "    }\n",
       "\n",
       "    .dataframe thead th {\n",
       "        text-align: right;\n",
       "    }\n",
       "</style>\n",
       "<table border=\"1\" class=\"dataframe\">\n",
       "  <thead>\n",
       "    <tr style=\"text-align: right;\">\n",
       "      <th></th>\n",
       "      <th>org</th>\n",
       "      <th>title</th>\n",
       "    </tr>\n",
       "  </thead>\n",
       "  <tbody>\n",
       "    <tr>\n",
       "      <th>288004</th>\n",
       "      <td>Открытое акционерное общество</td>\n",
       "      <td>Газпром</td>\n",
       "    </tr>\n",
       "    <tr>\n",
       "      <th>288028</th>\n",
       "      <td>Открытое акционерное общество</td>\n",
       "      <td>Нефтяная компания \"Роснефть\"</td>\n",
       "    </tr>\n",
       "    <tr>\n",
       "      <th>380317</th>\n",
       "      <td>Закрытое акционерное общество</td>\n",
       "      <td>Тренд</td>\n",
       "    </tr>\n",
       "    <tr>\n",
       "      <th>372858</th>\n",
       "      <td>Общество с ограниченной ответственностью</td>\n",
       "      <td>Финансовая компания Сбербанка</td>\n",
       "    </tr>\n",
       "    <tr>\n",
       "      <th>288118</th>\n",
       "      <td>Открытое акционерное общество</td>\n",
       "      <td>Российские железные дороги</td>\n",
       "    </tr>\n",
       "    <tr>\n",
       "      <th>401928</th>\n",
       "      <td>Общество с ограниченной ответственностью</td>\n",
       "      <td>Бизнес-Финанс</td>\n",
       "    </tr>\n",
       "    <tr>\n",
       "      <th>315472</th>\n",
       "      <td>Общество с ограниченной ответственностью</td>\n",
       "      <td>Кредит Свисс Секьюритиз (Москва)</td>\n",
       "    </tr>\n",
       "    <tr>\n",
       "      <th>701759</th>\n",
       "      <td>Открытое акционерное общество</td>\n",
       "      <td>ТНК-ВР Холдинг</td>\n",
       "    </tr>\n",
       "    <tr>\n",
       "      <th>187475</th>\n",
       "      <td>Открытое акционерное общество</td>\n",
       "      <td>Газпром нефть</td>\n",
       "    </tr>\n",
       "    <tr>\n",
       "      <th>353097</th>\n",
       "      <td>Общество с ограниченной ответственностью</td>\n",
       "      <td>Коммерц Инвестментс</td>\n",
       "    </tr>\n",
       "  </tbody>\n",
       "</table>\n",
       "</div>"
      ],
      "text/plain": [
       "                                             org  \\\n",
       "288004             Открытое акционерное общество   \n",
       "288028             Открытое акционерное общество   \n",
       "380317             Закрытое акционерное общество   \n",
       "372858  Общество с ограниченной ответственностью   \n",
       "288118             Открытое акционерное общество   \n",
       "401928  Общество с ограниченной ответственностью   \n",
       "315472  Общество с ограниченной ответственностью   \n",
       "701759             Открытое акционерное общество   \n",
       "187475             Открытое акционерное общество   \n",
       "353097  Общество с ограниченной ответственностью   \n",
       "\n",
       "                                   title  \n",
       "288004                           Газпром  \n",
       "288028      Нефтяная компания \"Роснефть\"  \n",
       "380317                             Тренд  \n",
       "372858     Финансовая компания Сбербанка  \n",
       "288118        Российские железные дороги  \n",
       "401928                     Бизнес-Финанс  \n",
       "315472  Кредит Свисс Секьюритиз (Москва)  \n",
       "701759                    ТНК-ВР Холдинг  \n",
       "187475                     Газпром нефть  \n",
       "353097               Коммерц Инвестментс  "
      ]
     },
     "execution_count": 15,
     "metadata": {},
     "output_type": "execute_result"
    }
   ],
   "source": [
    "data.loc[data.sales.nlargest(NUMBER_OF_LARGE_COMPANIES).index, :][['org', 'title']]"
   ]
  },
  {
   "cell_type": "markdown",
   "metadata": {},
   "source": [
    "#### Топ-10 по активам"
   ]
  },
  {
   "cell_type": "code",
   "execution_count": 16,
   "metadata": {},
   "outputs": [
    {
     "data": {
      "text/html": [
       "<div>\n",
       "<style scoped>\n",
       "    .dataframe tbody tr th:only-of-type {\n",
       "        vertical-align: middle;\n",
       "    }\n",
       "\n",
       "    .dataframe tbody tr th {\n",
       "        vertical-align: top;\n",
       "    }\n",
       "\n",
       "    .dataframe thead th {\n",
       "        text-align: right;\n",
       "    }\n",
       "</style>\n",
       "<table border=\"1\" class=\"dataframe\">\n",
       "  <thead>\n",
       "    <tr style=\"text-align: right;\">\n",
       "      <th></th>\n",
       "      <th>org</th>\n",
       "      <th>title</th>\n",
       "      <th>inn</th>\n",
       "    </tr>\n",
       "  </thead>\n",
       "  <tbody>\n",
       "    <tr>\n",
       "      <th>288004</th>\n",
       "      <td>Открытое акционерное общество</td>\n",
       "      <td>Газпром</td>\n",
       "      <td>7736050003</td>\n",
       "    </tr>\n",
       "    <tr>\n",
       "      <th>288118</th>\n",
       "      <td>Открытое акционерное общество</td>\n",
       "      <td>Российские железные дороги</td>\n",
       "      <td>7708503727</td>\n",
       "    </tr>\n",
       "    <tr>\n",
       "      <th>394654</th>\n",
       "      <td>Открытое акционерное общество</td>\n",
       "      <td>РОСНЕФТЕГАЗ</td>\n",
       "      <td>7705630445</td>\n",
       "    </tr>\n",
       "    <tr>\n",
       "      <th>602494</th>\n",
       "      <td>Открытое акционерное общество</td>\n",
       "      <td>СУРГУТНЕФТЕГАЗ</td>\n",
       "      <td>8602060555</td>\n",
       "    </tr>\n",
       "    <tr>\n",
       "      <th>288028</th>\n",
       "      <td>Открытое акционерное общество</td>\n",
       "      <td>Нефтяная компания \"Роснефть\"</td>\n",
       "      <td>7706107510</td>\n",
       "    </tr>\n",
       "    <tr>\n",
       "      <th>289060</th>\n",
       "      <td>Государственное унитарное предприятие города М...</td>\n",
       "      <td>Московский ордена Ленина и ордена Трудового Кр...</td>\n",
       "      <td>7702038150</td>\n",
       "    </tr>\n",
       "    <tr>\n",
       "      <th>405359</th>\n",
       "      <td>Открытое акционерное общество</td>\n",
       "      <td>Атомный энергопромышленный комплекс</td>\n",
       "      <td>7706664260</td>\n",
       "    </tr>\n",
       "    <tr>\n",
       "      <th>350008</th>\n",
       "      <td>Открытое акционерное общество</td>\n",
       "      <td>Федеральная сетевая компания Единой энергетиче...</td>\n",
       "      <td>4716016979</td>\n",
       "    </tr>\n",
       "    <tr>\n",
       "      <th>289914</th>\n",
       "      <td>Открытое акционерное общество</td>\n",
       "      <td>Российский концерн по производству электрическ...</td>\n",
       "      <td>7721632827</td>\n",
       "    </tr>\n",
       "    <tr>\n",
       "      <th>411043</th>\n",
       "      <td>Государственная корпорация по атомной энергии</td>\n",
       "      <td>Росатом</td>\n",
       "      <td>7706413348</td>\n",
       "    </tr>\n",
       "  </tbody>\n",
       "</table>\n",
       "</div>"
      ],
      "text/plain": [
       "                                                      org  \\\n",
       "288004                      Открытое акционерное общество   \n",
       "288118                      Открытое акционерное общество   \n",
       "394654                      Открытое акционерное общество   \n",
       "602494                      Открытое акционерное общество   \n",
       "288028                      Открытое акционерное общество   \n",
       "289060  Государственное унитарное предприятие города М...   \n",
       "405359                      Открытое акционерное общество   \n",
       "350008                      Открытое акционерное общество   \n",
       "289914                      Открытое акционерное общество   \n",
       "411043      Государственная корпорация по атомной энергии   \n",
       "\n",
       "                                                    title         inn  \n",
       "288004                                            Газпром  7736050003  \n",
       "288118                         Российские железные дороги  7708503727  \n",
       "394654                                        РОСНЕФТЕГАЗ  7705630445  \n",
       "602494                                     СУРГУТНЕФТЕГАЗ  8602060555  \n",
       "288028                       Нефтяная компания \"Роснефть\"  7706107510  \n",
       "289060  Московский ордена Ленина и ордена Трудового Кр...  7702038150  \n",
       "405359                Атомный энергопромышленный комплекс  7706664260  \n",
       "350008  Федеральная сетевая компания Единой энергетиче...  4716016979  \n",
       "289914  Российский концерн по производству электрическ...  7721632827  \n",
       "411043                                            Росатом  7706413348  "
      ]
     },
     "execution_count": 16,
     "metadata": {},
     "output_type": "execute_result"
    }
   ],
   "source": [
    "data.loc[data.ta_fix.nlargest(NUMBER_OF_LARGE_COMPANIES).index, :][['org', 'title', 'inn']]"
   ]
  },
  {
   "cell_type": "markdown",
   "metadata": {},
   "source": [
    ">> ### Как его модифцировать? (задание - сначала сделать самостоятельно, затем посмотерть play.py).\n",
    "*_его - список крупнейших компаний_"
   ]
  },
  {
   "cell_type": "markdown",
   "metadata": {},
   "source": [
    "#### Проблема1:\n",
    "* много дочерних компаний (Сбербанков, Газпромов, Роснефтей, etc) и компаний интуитивно связанных между собой, например, ВЛАДТЕКС, ВЛАДТЕКССЕРВИС.\n",
    "\n",
    "Решим её выявив регулярными выражениями компании, содержащие в наименовании (поле ```title```) одинаковые слова."
   ]
  },
  {
   "cell_type": "code",
   "execution_count": 17,
   "metadata": {},
   "outputs": [
    {
     "name": "stdout",
     "output_type": "stream",
     "text": [
      "Here 376 title contain Газпром\n"
     ]
    }
   ],
   "source": [
    "print(f'''Here \\\n",
    "{sum(data.title.str.lower().str.contains(r'.*(газпром).*', regex=True, na=False))} title contain Газпром''')"
   ]
  },
  {
   "cell_type": "code",
   "execution_count": 18,
   "metadata": {},
   "outputs": [
    {
     "name": "stdout",
     "output_type": "stream",
     "text": [
      "Here 31 title contain Роснефть\n"
     ]
    }
   ],
   "source": [
    "print(f'''Here \\\n",
    "{sum(data.title.str.lower().str.contains(r'.*(роснефть).*', regex=True, na=False))} title contain Роснефть''')"
   ]
  },
  {
   "cell_type": "code",
   "execution_count": 19,
   "metadata": {},
   "outputs": [
    {
     "name": "stdout",
     "output_type": "stream",
     "text": [
      "Here 10 title contain росатом\n"
     ]
    }
   ],
   "source": [
    "print(f'''Here \\\n",
    "{sum(data.title.str.lower().str.contains(r'.*(росатом).*', regex=True, na=False))} title contain росатом''')"
   ]
  },
  {
   "cell_type": "code",
   "execution_count": 20,
   "metadata": {},
   "outputs": [
    {
     "name": "stdout",
     "output_type": "stream",
     "text": [
      "Here 10 title contain сбербанк\n"
     ]
    }
   ],
   "source": [
    "print(f'''Here \\\n",
    "{sum(data.title.str.lower().str.contains(r'.*(сбербанк).*', regex=True, na=False))} title contain сбербанк''')"
   ]
  },
  {
   "cell_type": "code",
   "execution_count": 21,
   "metadata": {},
   "outputs": [
    {
     "data": {
      "text/plain": [
       "183880                 Сбербанк-Технологии.Нойдорф\n",
       "290629         Корпоративный университет Сбербанка\n",
       "303343                                Сбербанк КИБ\n",
       "353483                             Сбербанк России\n",
       "372858               Финансовая компания Сбербанка\n",
       "372874    Специализированный депозитарий Сбербанка\n",
       "417880                            Сбербанк Капитал\n",
       "432288                       Сбербанк - Технологии\n",
       "467345                  Сбербанк-Технологии.Сибирь\n",
       "696047                        Сбербанк Лизинг Норд\n",
       "Name: title, dtype: object"
      ]
     },
     "execution_count": 21,
     "metadata": {},
     "output_type": "execute_result"
    }
   ],
   "source": [
    "data.title[data.title.str.lower().str.contains(r'.*(сбербанк).*', regex=True, na=False)]"
   ]
  },
  {
   "cell_type": "code",
   "execution_count": 22,
   "metadata": {},
   "outputs": [
    {
     "name": "stdout",
     "output_type": "stream",
     "text": [
      "Here 1 title contain внешэкономбанк\n"
     ]
    }
   ],
   "source": [
    "print(f'''Here \\\n",
    "{sum(data.title.str.lower().str.contains(r'.*(внешэкономбанк).*', regex=True, na=False))} title contain внешэкономбанк''')"
   ]
  },
  {
   "cell_type": "markdown",
   "metadata": {},
   "source": [
    "Just for fun: сколько предприятий [Векторов, Трендов, Эдельвейсов](http://lurkmore.to/%D0%9E%D0%9E%D0%9E_%C2%AB%D0%92%D0%B5%D0%BA%D1%82%D0%BE%D1%80%C2%BB)"
   ]
  },
  {
   "cell_type": "code",
   "execution_count": 23,
   "metadata": {},
   "outputs": [
    {
     "name": "stdout",
     "output_type": "stream",
     "text": [
      "Here 2300 title contain вектор\n"
     ]
    }
   ],
   "source": [
    "print(f'''Here \\\n",
    "{sum(data.title.str.lower().str.contains(r'.*(вектор)|(тренд)|(эдельвейс).*', regex=True, na=False))} title contain вектор''')"
   ]
  }
 ],
 "metadata": {
  "kernelspec": {
   "display_name": "Python 3",
   "language": "python",
   "name": "python3"
  },
  "language_info": {
   "codemirror_mode": {
    "name": "ipython",
    "version": 3
   },
   "file_extension": ".py",
   "mimetype": "text/x-python",
   "name": "python",
   "nbconvert_exporter": "python",
   "pygments_lexer": "ipython3",
   "version": "3.6.2"
  }
 },
 "nbformat": 4,
 "nbformat_minor": 2
}
